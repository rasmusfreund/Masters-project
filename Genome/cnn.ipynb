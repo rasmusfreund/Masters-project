{
 "cells": [
  {
   "cell_type": "code",
   "execution_count": 1,
   "id": "486264f9-8ed4-43ab-817e-d21ec331f955",
   "metadata": {},
   "outputs": [],
   "source": [
    "import torch\n",
    "from torch import nn\n",
    "import pytorch_lightning as pl\n",
    "from pytorch_lightning.loggers import WandbLogger\n",
    "import wandb"
   ]
  },
  {
   "cell_type": "code",
   "execution_count": null,
   "id": "80bf01b3-67ac-44f5-9e2f-7e96afc63884",
   "metadata": {},
   "outputs": [],
   "source": [
    "class ResistNN(pl.LightningModule):\n",
    "    def __init__(self, num_species, num_antibiotics):\n",
    "        super(ResistNN, self).__init__()\n",
    "        # Base feature extraction\n",
    "        self.feature_extractor = nn.Sequential(\n",
    "            nn.Conv1D(in_channels=1, out_channels=16, kernel_size=3, stride=1, padding=1),\n",
    "            nn.ReLU(),\n",
    "            nn.Conv1D(in_channels=16, out_channels=16 ,kernel_size=3, stride=2, padding=0),\n",
    "        )\n",
    "        # Species prediction head\n",
    "        self.species_head = nn.Sequential(\n",
    "            nn.Linear(16, num_species),\n",
    "            nn.Softmax(dim=1),\n",
    "        )\n",
    "        \n",
    "        #Resistance prediction head\n",
    "        self.resistance_head = nn.ModuleList([\n",
    "            nn.Sequential(\n",
    "                nn.Linear(16 + num_species, 1),\n",
    "                nn.Sigmoid(),\n",
    "            ) for _ in range(num_antibiotics)\n",
    "        ])\n",
    "\n",
    "    def forward(self, x):\n",
    "        features = self.feature_extractor(x)\n",
    "        species_pred = self.species_head(features)\n",
    "\n",
    "        resistance_preds = [head(torch.cat((features, species_pred), dim=1)) for head in self.resistance_head]\n",
    "        return species_pred, torch.cat(resistance_preds, dim=1)\n",
    "\n",
    "    def configure_optimisers(self):\n",
    "        optimiser = torch.optim.Adam(self.parameters(), lr=1e-3)\n",
    "        return optimiser\n",
    "\n",
    "    def training_step(self, batch, batch_idx):\n",
    "        # Unpack batch\n",
    "        spectra, species_labels, resistance_labels = batch\n",
    "\n",
    "        # Fwd pass\n",
    "        species_pred, resistance_preds = forward(spectra)\n",
    "\n",
    "        # Loss\n",
    "        species_loss = nn.CrossEntropyLoss()(species_pred, species_labels)\n",
    "        resistance_loss = nn.BCELoss()(resistance_preds, resistance_labels)\n",
    "        total_loss = species_loss + resistance_loss\n",
    "\n",
    "        # Logging\n",
    "        self.log('train_loss', total_loss, on_step=True, on_epoch=True, prog_bar=True, logger=True)\n",
    "        return total_loss\n",
    "\n"
   ]
  },
  {
   "cell_type": "code",
   "execution_count": null,
   "id": "c33bee75-a5dd-4316-8d5d-880067431388",
   "metadata": {},
   "outputs": [],
   "source": [
    "class ResistDataModule(pl.LightningDataModule):\n",
    "    def __init__(self):\n",
    "        super().__init__()\n",
    "\n",
    "    def train_dataloader(self):\n",
    "        pass\n",
    "\n",
    "    def val_dataloader(self):\n",
    "        pass\n",
    "        "
   ]
  },
  {
   "cell_type": "code",
   "execution_count": null,
   "id": "7041f922-9d12-49f9-81a4-02c6c3646f03",
   "metadata": {},
   "outputs": [],
   "source": [
    "wandb_logger = WandbLogger(project=\"amr_driams\")\n",
    "\n",
    "model = ResistNN(num_species=pass, num_antibiotics=pass)\n",
    "\n",
    "data_module = ResistDataModule()\n",
    "\n",
    "trainer = pl.Trainer(logger=wandb_logger, max_epochcs=5)\n",
    "trainer.fit(model, data_module)"
   ]
  }
 ],
 "metadata": {
  "kernelspec": {
   "display_name": "Python 3 (ipykernel)",
   "language": "python",
   "name": "python3"
  },
  "language_info": {
   "codemirror_mode": {
    "name": "ipython",
    "version": 3
   },
   "file_extension": ".py",
   "mimetype": "text/x-python",
   "name": "python",
   "nbconvert_exporter": "python",
   "pygments_lexer": "ipython3",
   "version": "3.11.0"
  }
 },
 "nbformat": 4,
 "nbformat_minor": 5
}
