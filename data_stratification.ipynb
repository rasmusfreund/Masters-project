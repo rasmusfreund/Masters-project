{
 "cells": [
  {
   "cell_type": "code",
   "execution_count": 2,
   "id": "fa81fe03-d539-4672-bf52-a8eb35b0afbb",
   "metadata": {},
   "outputs": [],
   "source": [
    "import os\n",
    "import re\n",
    "import pandas as pd\n",
    "import numpy as np\n",
    "import matplotlib.pyplot as plt\n",
    "from matplotlib import cm\n",
    "from collections import Counter\n",
    "from skmultilearn.model_selection import iterative_train_test_split\n",
    "from skmultilearn.model_selection.measures import get_combination_wise_output_matrix"
   ]
  },
  {
   "cell_type": "markdown",
   "id": "79969fd1-7e8a-4dfb-b472-a7d5d859979a",
   "metadata": {},
   "source": [
    "# Stratifier for resistances"
   ]
  },
  {
   "cell_type": "code",
   "execution_count": 7,
   "id": "7ed5361c-cc4c-4345-9417-94c4545cdf4c",
   "metadata": {},
   "outputs": [],
   "source": [
    "def find_top_resistances(csv_path, species_column = 'species'):\n",
    "    df = pd.read_csv(csv_path, low_memory=False)\n",
    "    df = df[~df[species_column].str.contains(\"MIX!\")]\n",
    "    antibiotic_cols = [col for col in df.columns if '_' not in col and col not in ['code', species_column]]\n",
    "    resistance_counts = df[antibiotic_cols].apply(lambda x: (x == 'R').sum())\n",
    "    return resistance_counts.nlargest(25).index.tolist()\n",
    "\n",
    "def unify_and_filter(csv_paths, top_resistances, species_column = 'species'):\n",
    "    for path in csv_paths:\n",
    "        df = pd.read_csv(path, low_memory=False)\n",
    "        base_path = os.path.split(path)[0]\n",
    "        base_file = os.path.split(path)[1].split('.')[0]\n",
    "        df = df[['code', species_column] + top_resistances]\n",
    "        df.to_csv(f'{base_path}/{base_file}_filtered.csv', index=False)"
   ]
  },
  {
   "cell_type": "code",
   "execution_count": 17,
   "id": "0b123bd6-6c28-4e70-95fe-ea4d84582ba6",
   "metadata": {},
   "outputs": [],
   "source": [
    "DATA_PATH = \"/faststorage/project/amr_driams/rasmus/data/DRIAMS-A/\"\n",
    "DRIAMS_PATHS = os.listdir(DATA_PATH)\n",
    "ID_PATHS = []\n",
    "for root, dir, files in os.walk(DATA_PATH):\n",
    "    for file in files:\n",
    "        if file.endswith('clean.csv'):\n",
    "            ID_PATHS.append(os.path.join(root, file))\n",
    "ID_PATHS = sorted(ID_PATHS)\n",
    "\n",
    "all_top_resistances = set()\n",
    "for path in ID_PATHS:\n",
    "    top_resistances = find_top_resistances(path)\n",
    "    all_top_resistances.update(top_resistances)\n",
    "unique_top_resistances = list(all_top_resistances)\n",
    "unify_and_filter(ID_PATHS, unique_top_resistances)"
   ]
  },
  {
   "cell_type": "code",
   "execution_count": 12,
   "id": "7fa58a09-86df-4c6a-93df-467283c456c0",
   "metadata": {},
   "outputs": [
    {
     "name": "stdout",
     "output_type": "stream",
     "text": [
      "['/faststorage/project/amr_driams/rasmus/data/DRIAMS-A/id/2015_clean_filtered.csv', '/faststorage/project/amr_driams/rasmus/data/DRIAMS-A/id/2016_clean_filtered.csv', '/faststorage/project/amr_driams/rasmus/data/DRIAMS-A/id/2017_clean_filtered.csv', '/faststorage/project/amr_driams/rasmus/data/DRIAMS-A/id/2018_clean_filtered.csv']\n"
     ]
    }
   ],
   "source": [
    "DATA_PATH = \"/faststorage/project/amr_driams/rasmus/data/DRIAMS-A/\"\n",
    "DRIAMS_PATHS = os.listdir(DATA_PATH)\n",
    "FILTERED_ID_PATHS = []\n",
    "for root, dir, files in os.walk(DATA_PATH):\n",
    "    for file in files:\n",
    "        if file.endswith('filtered.csv'):\n",
    "            FILTERED_ID_PATHS.append(os.path.join(root, file))\n",
    "FILTERED_ID_PATHS = sorted(FILTERED_ID_PATHS)\n",
    "print(FILTERED_ID_PATHS)"
   ]
  },
  {
   "cell_type": "code",
   "execution_count": 19,
   "id": "46ffebac-7e4c-4d5c-9dfb-01ca98da2862",
   "metadata": {},
   "outputs": [],
   "source": [
    "def encode_resistances(value):\n",
    "    if value in ['R', 'I', 'R(1)']:\n",
    "        return 1\n",
    "    elif value == 'S' or pd.isnull(value) or value == '-':\n",
    "        return 0\n",
    "    else:\n",
    "        raise ValueError(f'Unexpected value: {value}')\n",
    "\n",
    "def is_unknown_pattern(value):\n",
    "    if re.match(r'(R|I|S)\\(\\d+\\)(,?\\s?(R|I|S)\\(\\d+\\))*', str(value)):\n",
    "        return True\n",
    "    return False\n",
    "\n",
    "def stratified_resistance_split(csv_path: str, validation_size: int=0.10, species_column: str='species', min_observations: int = 15):\n",
    "    # Setting up file structure stuff\n",
    "    base_path = os.path.split(csv_path)[0]\n",
    "    if not os.path.isdir(os.path.join(base_path, 'resistance')):\n",
    "        os.mkdir(os.path.join(base_path, 'resistance'))\n",
    "    base_path_resist = os.path.join(base_path, 'resistance')\n",
    "    base_file = os.path.split(csv_path)[1].rsplit('.', 1)[0]\n",
    "\n",
    "    df = pd.read_csv(csv_path, low_memory=False)\n",
    "\n",
    "    # Exclude \"MIX!\" species\n",
    "    excluded_df = df[df[species_column].str.contains(\"MIX!\")]\n",
    "    df = df[~df[species_column].str.contains(\"MIX!\")]\n",
    "    \n",
    "    # Identify columns for resistance without '_' and with no 'R'/'I'\n",
    "    antibiotic_cols = [col for col in df.columns[2:] if '_' not in col]\n",
    "    resistance_df = df[antibiotic_cols]\n",
    "    #active_resistance_cols = resistance_df.apply(lambda x: (x == 'R') | (x == 'I')).sum() >= min_observations\n",
    "\n",
    "    # Log removal of antibiotics with no observations\n",
    "    #removed_antibiotics = active_resistance_cols[~active_resistance_cols].index.tolist()\n",
    "    #with open(f'{base_path_resist}/{base_file}_removed_antibiotics.txt', 'w') as f:\n",
    "    #    for antibiotic in removed_antibiotics:\n",
    "    #        f.write(f'{antibiotic}\\n')\n",
    "\n",
    "    # Update antibiotic_cols var after removal\n",
    "    #antibiotic_cols = [col for col in antibiotic_cols if active_resistance_cols[col]]\n",
    "    \n",
    "    # Exlude unknown resistance patterns\n",
    "    unknown_pattern_df = resistance_df.map(is_unknown_pattern)\n",
    "    rows_with_unknown = unknown_pattern_df.any(axis=1)\n",
    "    excluded_df = pd.concat([excluded_df, df[rows_with_unknown]])\n",
    "\n",
    "    # Exlude rows from original df\n",
    "    df = df[~rows_with_unknown]\n",
    "    resistance_df = resistance_df[~rows_with_unknown]\n",
    "    \n",
    "    # Filter out columns with no observations\n",
    "    #resistance_df = resistance_df.loc[:, active_resistance_cols]\n",
    "    \n",
    "    # Convert observations to binary\n",
    "    binary_resistance_df = resistance_df.map(encode_resistances)\n",
    "    \n",
    "    # Create train/test split\n",
    "    X = df[['code', 'species']].values\n",
    "    y = binary_resistance_df.values\n",
    "\n",
    "    X_train, y_train, X_test, y_test = iterative_train_test_split(X, y, test_size=validation_size)\n",
    "\n",
    "    # Stack data as columns\n",
    "    train_val_data = np.column_stack((X_train, y_train))\n",
    "    test_data = np.column_stack((X_test, y_test))\n",
    "\n",
    "    # Convert to DataFrames\n",
    "    train_val_df = pd.DataFrame(train_val_data)\n",
    "    test_df = pd.DataFrame(test_data)\n",
    "\n",
    "    # Apply column names\n",
    "    train_val_df.columns = ['code', 'species'] + antibiotic_cols\n",
    "    test_df.columns = ['code', 'species'] + antibiotic_cols\n",
    "\n",
    "    # Save files\n",
    "    df.to_csv(f'{base_path_resist}/{base_file}_filtered.csv', index=False)\n",
    "    train_val_df.to_csv(f'{base_path_resist}/{base_file}_train_val.csv', index=False)\n",
    "    test_df.to_csv(f'{base_path_resist}/{base_file}_test.csv', index=False)\n",
    "    excluded_df.to_csv(f'{base_path_resist}/{base_file}_excluded.csv', index=False)\n"
   ]
  },
  {
   "cell_type": "code",
   "execution_count": 20,
   "id": "7d6dbb0c-cfe5-4f54-9c8c-7721cd874cbf",
   "metadata": {},
   "outputs": [],
   "source": [
    "for path in FILTERED_ID_PATHS:\n",
    "    stratified_resistance_split(path)"
   ]
  },
  {
   "cell_type": "code",
   "execution_count": 8,
   "id": "8c1c762f-cd7a-47fd-a6b7-29447ceeda17",
   "metadata": {},
   "outputs": [],
   "source": [
    "# Locate files containing id and type of AMR\n",
    "DATA_PATH = \"/faststorage/project/amr_driams/rasmus/data/DRIAMS-A/\"\n",
    "DRIAMS_PATHS = os.listdir(DATA_PATH)\n",
    "ID_PATHS = []\n",
    "for root, dir, files in os.walk(DATA_PATH):\n",
    "    for file in files:\n",
    "        if file.endswith('clean.csv'):\n",
    "            ID_PATHS.append(os.path.join(root, file))\n",
    "ID_PATHS = sorted(ID_PATHS)"
   ]
  },
  {
   "cell_type": "code",
   "execution_count": 9,
   "id": "51c6a507-0515-46dd-8e91-dc963716701c",
   "metadata": {},
   "outputs": [
    {
     "name": "stdout",
     "output_type": "stream",
     "text": [
      "['/faststorage/project/amr_driams/rasmus/data/DRIAMS-A/id/2015_clean.csv', '/faststorage/project/amr_driams/rasmus/data/DRIAMS-A/id/2016_clean.csv', '/faststorage/project/amr_driams/rasmus/data/DRIAMS-A/id/2017_clean.csv', '/faststorage/project/amr_driams/rasmus/data/DRIAMS-A/id/2018_clean.csv']\n"
     ]
    }
   ],
   "source": [
    "print(ID_PATHS)"
   ]
  },
  {
   "cell_type": "code",
   "execution_count": 7,
   "id": "190e7389-5c3e-4d52-9c57-e54f93eb3d13",
   "metadata": {},
   "outputs": [],
   "source": [
    "for path in ID_PATHS:\n",
    "    stratified_resistance_split(path)"
   ]
  },
  {
   "cell_type": "markdown",
   "id": "072a05cf-9df2-4748-a18c-2ee8b7db81cf",
   "metadata": {},
   "source": [
    "## Example of multilabel stratification product"
   ]
  },
  {
   "cell_type": "code",
   "execution_count": 75,
   "id": "a8d92c67-f94d-4479-80c7-af38c1788224",
   "metadata": {},
   "outputs": [
    {
     "data": {
      "image/png": "[encoded data removed]",
      "text/plain": [
       "<Figure size 1400x700 with 1 Axes>"
      ]
     },
     "metadata": {},
     "output_type": "display_data"
    }
   ],
   "source": [
    "# Load data\n",
    "train_val = pd.read_csv(\"/faststorage/project/amr_driams/rasmus/data/DRIAMS-A/id/resistance/2018_clean_train_val.csv\")\n",
    "test = pd.read_csv(\"/faststorage/project/amr_driams/rasmus/data/DRIAMS-A/id/resistance/2018_clean_test.csv\")\n",
    "\n",
    "# Isoalte label columns\n",
    "y_train_val = train_val.iloc[:, 2:]\n",
    "y_test = test.iloc[:, 2:]\n",
    "\n",
    "# Convert to numpy arrays\n",
    "y_train_val_np = y_train_val.to_numpy()\n",
    "y_test_np = y_test.to_numpy()\n",
    "\n",
    "# Apply the combinatorial matrix function\n",
    "train_combinations = get_combination_wise_output_matrix(y_train_val_np, order=2)\n",
    "test_combinations = get_combination_wise_output_matrix(y_test_np, order=2)\n",
    "\n",
    "# Count frequencies\n",
    "train_comb_counter = Counter(str(combination) for row in train_combinations for combination in row)\n",
    "test_comb_counter = Counter(str(combination) for row in test_combinations for combination in row)\n",
    "\n",
    "# Create df\n",
    "df_comb_distribution = pd.DataFrame({\n",
    "    'Train/Validate': train_comb_counter,\n",
    "    'Test': test_comb_counter\n",
    "}).T.fillna(0.0)\n",
    "\n",
    "# Prep for plotting - get subset of data and pivot the frame\n",
    "subset_combinations = df_comb_distribution.columns[:20]\n",
    "df_plot = df_comb_distribution[subset_combinations].T\n",
    "\n",
    "colors = [cm.tab20b(0), cm.tab20b(5)]\n",
    "ax = df_plot.plot(kind='bar', figsize=(14,7), color=colors)\n",
    "ax.set_title('Distribution of Label Combinations between Train/Validation and Test Sets')\n",
    "ax.set_xlabel('Label Combinations')\n",
    "ax.set_ylabel('Counts')\n",
    "ax.set_xticklabels([])\n",
    "plt.tight_layout()\n",
    "plt.legend(title='Dataset')\n",
    "\n",
    "plt.savefig(\"/faststorage/project/amr_driams/rasmus/Figures/data_visualisation/2018/2018_train_val_test_split.png\", dpi=300)\n",
    "plt.show()\n",
    "\n",
    "\n"
   ]
  },
  {
   "cell_type": "markdown",
   "id": "8a8e8c89-8091-43b7-9b12-c5f99f4747c4",
   "metadata": {},
   "source": [
    "## Aggregation of data"
   ]
  },
  {
   "cell_type": "code",
   "execution_count": 2,
   "id": "b235883e-5fbd-4968-aeb7-9d1092466c47",
   "metadata": {},
   "outputs": [
    {
     "name": "stdout",
     "output_type": "stream",
     "text": [
      "2016_clean_filtered.csv\n",
      "2015_clean_test.csv\n",
      "2017_clean_excluded.csv\n",
      "2017_clean_removed_antibiotics.txt\n",
      "2018_clean_filtered.csv\n",
      "2017_clean_train_val.csv\n",
      "2015_clean_excluded.csv\n",
      "2017_clean_test.csv\n",
      "2016_clean_removed_antibiotics.txt\n",
      "2018_clean_excluded.csv\n",
      "2015_clean_train_val.csv\n",
      "2016_clean_test.csv\n",
      "2018_clean_test.csv\n",
      "2015_clean_filtered.csv\n",
      "2015_clean_removed_antibiotics.txt\n",
      "2018_clean_train_val.csv\n",
      "2018_clean_removed_antibiotics.txt\n",
      "2016_clean_excluded.csv\n",
      "2016_clean_train_val.csv\n",
      "2017_clean_filtered.csv\n"
     ]
    }
   ],
   "source": [
    "# Grab data\n",
    "\n",
    "for file in os.listdir(\"/faststorage/project/amr_driams/rasmus/data/DRIAMS-A/id/resistance/\"):\n",
    "    print(file)\n",
    "\n"
   ]
  }
 ],
 "metadata": {
  "kernelspec": {
   "display_name": "Python 3 (ipykernel)",
   "language": "python",
   "name": "python3"
  },
  "language_info": {
   "codemirror_mode": {
    "name": "ipython",
    "version": 3
   },
   "file_extension": ".py",
   "mimetype": "text/x-python",
   "name": "python",
   "nbconvert_exporter": "python",
   "pygments_lexer": "ipython3",
   "version": "3.11.0"
  }
 },
 "nbformat": 4,
 "nbformat_minor": 5
}
